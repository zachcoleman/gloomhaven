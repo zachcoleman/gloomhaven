{
 "cells": [
  {
   "cell_type": "markdown",
   "metadata": {},
   "source": [
    "# Perk Comparison Analysis\n",
    "This looks at a pair of decks after a common perk choice and breaksdown the changes in probabilities and attacks."
   ]
  },
  {
   "cell_type": "code",
   "execution_count": null,
   "metadata": {},
   "outputs": [],
   "source": [
    "import pandas as pd\n",
    "from gloomhaven.deck import GloomhavenDeck\n",
    "from gloomhaven.render import render_tables, format_table_to_hmtl"
   ]
  },
  {
   "cell_type": "code",
   "execution_count": null,
   "metadata": {},
   "outputs": [],
   "source": [
    "deck1 = GloomhavenDeck()\n",
    "deck2 = deck1.copy()"
   ]
  },
  {
   "cell_type": "markdown",
   "metadata": {},
   "source": [
    "## Apply Perks"
   ]
  },
  {
   "cell_type": "code",
   "execution_count": null,
   "metadata": {},
   "outputs": [],
   "source": [
    "# remove 2 \"-1\"s\n",
    "assert deck1.remove_card(\"-1\")\n",
    "assert deck1.remove_card(\"-1\")\n",
    "\n",
    "# remove \"-2\" and add \"0\"\n",
    "assert deck2.remove_card(\"-2\")\n",
    "assert deck2.add_card(\"0\")"
   ]
  },
  {
   "cell_type": "code",
   "execution_count": null,
   "metadata": {},
   "outputs": [],
   "source": [
    "from collections import Counter\n",
    "import dictdiffer\n",
    "diffs = dictdiffer.diff(\n",
    "    Counter(deck1.card_list), Counter(deck2.card_list)\n",
    ")\n",
    "print(\"=\"*3, \"changes\", \"=\"*3)\n",
    "for diff in diffs:\n",
    "    if diff[0] == \"change\":\n",
    "        print(f\"{diff[1]:>2}: {diff[2][0]:>2}  => {diff[2][1]:>2}\")\n",
    "    elif diff[0] == \"remove\":\n",
    "        for d in diff[2]:\n",
    "            print(f\"{d[0]:>2}: {d[1]:>2}  => {0:>2}\")\n",
    "    elif diff[0] == \"add\":\n",
    "        for d in diff[2]:\n",
    "            print(f\"{d[0]:>2}: {0:>2}  => {d[1]:>2}\")"
   ]
  },
  {
   "cell_type": "code",
   "execution_count": null,
   "metadata": {},
   "outputs": [],
   "source": [
    "attack_data = {}\n",
    "base_attacks = [1, 2, 3, 4, 5]\n",
    "samp_size = 100_000\n",
    "\n",
    "def attacks(samp_size, attack):\n",
    "    for _ in range(samp_size):\n",
    "        yield attack\n",
    "\n",
    "attack_data1, attack_data2 = {}, {}\n",
    "for val in base_attacks:\n",
    "    moves = deck1.simulate(attacks(samp_size, val))\n",
    "    attack_data1[f\"base_attack_{val}\"] = [dmg for dmg, _ in moves]\n",
    "    moves = deck2.simulate(attacks(samp_size, val))\n",
    "    attack_data2[f\"base_attack_{val}\"] = [dmg for dmg, _ in moves]\n",
    "\n",
    "attack_data1 = pd.DataFrame(attack_data1)\n",
    "attack_data2 = pd.DataFrame(attack_data2)"
   ]
  },
  {
   "cell_type": "code",
   "execution_count": null,
   "metadata": {},
   "outputs": [],
   "source": [
    "def get_counts(srs: pd.Series):\n",
    "    srs = srs.value_counts()\n",
    "    for attack_val in range(srs.index.max()+1):\n",
    "        if attack_val not in srs.index:\n",
    "            srs[attack_val] = 0\n",
    "    srs = srs / samp_size\n",
    "    srs.sort_index()\n",
    "    return srs"
   ]
  },
  {
   "cell_type": "code",
   "execution_count": null,
   "metadata": {},
   "outputs": [],
   "source": [
    "pdf_1 = attack_data1.apply(get_counts, axis=0)\n",
    "pdf_2 = attack_data2.apply(get_counts, axis=0)"
   ]
  },
  {
   "cell_type": "code",
   "execution_count": null,
   "metadata": {},
   "outputs": [],
   "source": [
    "def mode(x):\n",
    "    return x.value_counts().index[0]\n",
    "\n",
    "summ_1 = attack_data1.agg([\"min\", \"median\", \"max\", \"mean\", \"std\", mode])\n",
    "summ_2 = attack_data2.agg([\"min\", \"median\", \"max\", \"mean\", \"std\", mode])"
   ]
  },
  {
   "cell_type": "code",
   "execution_count": null,
   "metadata": {},
   "outputs": [],
   "source": [
    "def _color_red_or_green(val):\n",
    "    if val < 0:\n",
    "        return f\"background-color: #f07067\"\n",
    "    elif val > 0:\n",
    "        return f\"background-color: #79ed85\""
   ]
  },
  {
   "cell_type": "code",
   "execution_count": null,
   "metadata": {},
   "outputs": [],
   "source": [
    "diff_table = (summ_1.fillna(0).round(2) - summ_2.fillna(0).round(3))"
   ]
  },
  {
   "cell_type": "code",
   "execution_count": null,
   "metadata": {},
   "outputs": [],
   "source": [
    "with open(\"../assets/perk_comparison.html\", \"w\") as f:\n",
    "    f.write(render_tables([\n",
    "        (\n",
    "            '\"Remove -1x2\" - \"Remove -2, Add 0\"',\n",
    "            format_table_to_hmtl(diff_table, _color_red_or_green)\n",
    "        ),\n",
    "        (\n",
    "            '\"Remove -1x2\" Summary Stats',\n",
    "            format_table_to_hmtl(summ_1)\n",
    "        ),\n",
    "        (\n",
    "           '\"Remove -2, Add 0\" Summary Stats',\n",
    "            format_table_to_hmtl(summ_2) \n",
    "        )\n",
    "\n",
    "    ]))"
   ]
  }
 ],
 "metadata": {
  "interpreter": {
   "hash": "838055c3cd81ddecf0e215d316bdabc2e13aaef3de20431c5e624dd8cc967aac"
  },
  "kernelspec": {
   "display_name": "Python 3.9.7 64-bit ('gloomhaven-rHdhGHuZ-py3.9': poetry)",
   "language": "python",
   "name": "python3"
  },
  "language_info": {
   "codemirror_mode": {
    "name": "ipython",
    "version": 3
   },
   "file_extension": ".py",
   "mimetype": "text/x-python",
   "name": "python",
   "nbconvert_exporter": "python",
   "pygments_lexer": "ipython3",
   "version": "3.9.7"
  },
  "orig_nbformat": 4
 },
 "nbformat": 4,
 "nbformat_minor": 2
}
